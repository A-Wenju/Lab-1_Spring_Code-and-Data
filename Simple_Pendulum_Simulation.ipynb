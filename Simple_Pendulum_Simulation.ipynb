{
 "cells": [
  {
   "cell_type": "code",
   "execution_count": 1,
   "metadata": {},
   "outputs": [],
   "source": [
    "#import all packages\n",
    "import numpy as np\n",
    "import matplotlib.pyplot as plt"
   ]
  },
  {
   "cell_type": "code",
   "execution_count": 2,
   "metadata": {},
   "outputs": [],
   "source": [
    "#define the acceleration function\n",
    "gamma = 0   #set the damping factor\n",
    "\n",
    "def acc(x, v):  #this is based on the differential equation\n",
    "    return -x - gamma*v"
   ]
  },
  {
   "cell_type": "code",
   "execution_count": 3,
   "metadata": {},
   "outputs": [],
   "source": [
    "#define the parameters\n",
    "final_time = 40  #set the time duration and time steps for integration\n",
    "dt = 0.01\n",
    "N = int(final_time/dt)  #this sets the number of data points\n",
    "\n",
    "#set initial conditions\n",
    "pos_0 = np.array([1,0])  #define the initial position and velocity as vectors\n",
    "vel_0 = np.array([0.5, 0.05])"
   ]
  },
  {
   "cell_type": "code",
   "execution_count": 4,
   "metadata": {},
   "outputs": [],
   "source": [
    "#define the empty lists\n",
    "time = np.zeros(N+1, dtype = float)  #define the lists to store values for time, position, and velocity\n",
    "velocity = np.zeros((N+1,2), dtype = float)\n",
    "position = np.zeros((N+1,2), dtype = float)\n",
    "\n",
    "#save the initial conditions in the lists\n",
    "position[0] = pos_0  \n",
    "velocity[0] = vel_0 + acc(pos_0, vel_0)*dt/2  #use the leap-frog algorithm\n"
   ]
  },
  {
   "cell_type": "code",
   "execution_count": 5,
   "metadata": {},
   "outputs": [],
   "source": [
    "#define the Euler algorithm to fill the grid\n",
    "for i in range(1,N+1):\n",
    "    position[i] = position[i-1] + velocity[i-1]*dt\n",
    "    velocity[i] = velocity[i-1] + acc(position[i], velocity[i-1])*dt\n",
    "    time[i] = i*dt"
   ]
  },
  {
   "cell_type": "code",
   "execution_count": 6,
   "metadata": {},
   "outputs": [],
   "source": [
    "#Slice the vectors into each component    \n",
    "pos_x = [position[i][0] for i in range(0,N+1)]\n",
    "pos_y = [position[i][1] for i in range(0,N+1)]\n",
    "\n",
    "vel_x = [velocity[i][0] for i in range(0,N+1)]\n",
    "vel_y = [velocity[i][0] for i in range(0,N+1)]"
   ]
  },
  {
   "cell_type": "code",
   "execution_count": 7,
   "metadata": {},
   "outputs": [
    {
     "data": {
      "image/png": "[encoded data removed]",
      "text/plain": [
       "<Figure size 432x288 with 1 Axes>"
      ]
     },
     "metadata": {
      "needs_background": "light"
     },
     "output_type": "display_data"
    }
   ],
   "source": [
    "#plot the above results to show the ellipse\n",
    "plt.scatter(pos_x, pos_y)   #We can also change the damping factor to show the spiraling effect\n",
    "plt.xlabel('x (distance)')\n",
    "plt.ylabel('y (distance)')\n",
    "plt.show()"
   ]
  },
  {
   "cell_type": "code",
   "execution_count": null,
   "metadata": {},
   "outputs": [],
   "source": []
  }
 ],
 "metadata": {
  "kernelspec": {
   "display_name": "Python 3",
   "language": "python",
   "name": "python3"
  },
  "language_info": {
   "codemirror_mode": {
    "name": "ipython",
    "version": 3
   },
   "file_extension": ".py",
   "mimetype": "text/x-python",
   "name": "python",
   "nbconvert_exporter": "python",
   "pygments_lexer": "ipython3",
   "version": "3.10.0"
  },
  "orig_nbformat": 4,
  "vscode": {
   "interpreter": {
    "hash": "26de051ba29f2982a8de78e945f0abaf191376122a1563185a90213a26c5da77"
   }
  }
 },
 "nbformat": 4,
 "nbformat_minor": 2
}
